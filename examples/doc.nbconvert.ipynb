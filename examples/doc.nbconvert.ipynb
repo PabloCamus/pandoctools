{
 "cells": [
  {
   "cell_type": "markdown",
   "metadata": {},
   "source": [
    "Markdown to Jupyter notebook example\n",
    "====================================\n",
    "\n",
    "Here is a SugarTeX example with eq. 1 and fig. 1.\n",
    "\n",
    "See [PDF of this\n",
    "source](https://github.com/kiwi0fruit/sugartex/raw/master/sugartex.pdf)\n",
    "if you do not have [excellent Unicode\n",
    "support](https://github.com/kiwi0fruit/sugartex#atom-editor-with-full-unicode-support).\n",
    "\n",
    "<span id=\"eq:max\">$$\n",
    "\\begin{aligned}∇ × {\\mathbf{B}} - \\frac{1}{c} \\frac{∂{\\mathbf{E}}}{∂t} &= \\frac{4π}{c} {\\mathbf{j}}\\\\\n",
    "               ∇ ⋅ {\\mathbf{E}}\\ &= 4πρ       \\\\\n",
    " ∇ × {\\mathbf{E}} + \\frac{1}{c} \\frac{∂{\\mathbf{B}}}{∂t} &= {\\mathbf{0}}      \\\\\n",
    "               ∇ ⋅ {\\mathbf{B}}\\ &= 0         \\end{aligned}\n",
    ",\\qquad(1)$$</span>\n",
    "\n",
    "where ${\\mathbf{B}},\\,{\\mathbf{E}},\\,{\\mathbf{j}}:\\,ℝ^{4} → ℝ^{3}$ –\n",
    "vector functions of the form\n",
    "$(t,x,y,z) ↦ {\\mathbf{f}}(t,x,y,z),\\,{\\mathbf{f}} = (f_{\\mathrm{x}}, f_{\\mathrm{y}}, f_{\\mathrm{z}})$.\n",
    "\n",
    "<img src=\"https://avatars3.githubusercontent.com/u/19735117?s=460&amp;v=4\" alt=\"Figure 1: Sample image with cross-references.\" id=\"fig:img\" />\n",
    "\n",
    "Image caption does not work but it can be fixed via simple Panflute\n",
    "filter. Or it can be considered Pandoc bug."
   ]
  },
  {
   "cell_type": "markdown",
   "metadata": {},
   "source": [
    "``` python\n",
    "import pandas as pd\n",
    "import numpy as np\n",
    "from pandoctools import pandas as th\n",
    "\n",
    "df = pd.DataFrame(np.random.random(16).reshape(4, 4))\n",
    "\n",
    "print(th.md_table(df, KNITTY))\n",
    "print(': Table {#tbl:table1}')\n",
    "```\n"
   ]
  },
  {
   "cell_type": "markdown",
   "metadata": {},
   "source": [
    "<div id=\"tbl:table1\">\n",
    "\n",
    "<table>\n",
    "<caption>Table 1: Table</caption>\n",
    "<colgroup>\n",
    "<col style=\"width: 25%\" />\n",
    "<col style=\"width: 25%\" />\n",
    "<col style=\"width: 25%\" />\n",
    "<col style=\"width: 25%\" />\n",
    "</colgroup>\n",
    "<thead>\n",
    "<tr class=\"header\">\n",
    "<th>0</th>\n",
    "<th>1</th>\n",
    "<th>2</th>\n",
    "<th>3</th>\n",
    "</tr>\n",
    "</thead>\n",
    "<tbody>\n",
    "<tr class=\"odd\">\n",
    "<td>0.04052396277849235</td>\n",
    "<td>0.31286265111762823</td>\n",
    "<td>0.41441190954949736</td>\n",
    "<td>0.6228323035264776</td>\n",
    "</tr>\n",
    "<tr class=\"even\">\n",
    "<td>0.7676462951195204</td>\n",
    "<td>0.9762850977767724</td>\n",
    "<td>0.9961044738343995</td>\n",
    "<td>0.38540601517436734</td>\n",
    "</tr>\n",
    "<tr class=\"odd\">\n",
    "<td>0.475994497799504</td>\n",
    "<td>0.19935359938588026</td>\n",
    "<td>0.35298990066491154</td>\n",
    "<td>0.06917169997124839</td>\n",
    "</tr>\n",
    "<tr class=\"even\">\n",
    "<td>0.23727514761052737</td>\n",
    "<td>0.36928821090897423</td>\n",
    "<td>0.8423369716666842</td>\n",
    "<td>0.20347834272841647</td>\n",
    "</tr>\n",
    "</tbody>\n",
    "</table>\n",
    "\n",
    "</div>\n",
    "\n",
    "Text and tbl. 1"
   ]
  },
  {
   "cell_type": "code",
   "execution_count": 1,
   "metadata": {
    "attributes": {
     "classes": [
      "python",
      "in"
     ],
     "id": ""
    }
   },
   "outputs": [
    {
     "data": {
      "text/html": [
       "<div>\n",
       "<style scoped>\n",
       "    .dataframe tbody tr th:only-of-type {\n",
       "        vertical-align: middle;\n",
       "    }\n",
       "\n",
       "    .dataframe tbody tr th {\n",
       "        vertical-align: top;\n",
       "    }\n",
       "\n",
       "    .dataframe thead th {\n",
       "        text-align: right;\n",
       "    }\n",
       "</style>\n",
       "<table border=\"1\" class=\"dataframe\">\n",
       "  <thead>\n",
       "    <tr style=\"text-align: right;\">\n",
       "      <th></th>\n",
       "      <th>0</th>\n",
       "      <th>1</th>\n",
       "      <th>2</th>\n",
       "      <th>3</th>\n",
       "    </tr>\n",
       "  </thead>\n",
       "  <tbody>\n",
       "    <tr>\n",
       "      <th>0</th>\n",
       "      <td>0.653953</td>\n",
       "      <td>0.963196</td>\n",
       "      <td>0.342583</td>\n",
       "      <td>0.988737</td>\n",
       "    </tr>\n",
       "    <tr>\n",
       "      <th>1</th>\n",
       "      <td>0.956051</td>\n",
       "      <td>0.296642</td>\n",
       "      <td>0.894376</td>\n",
       "      <td>0.983777</td>\n",
       "    </tr>\n",
       "    <tr>\n",
       "      <th>2</th>\n",
       "      <td>0.924122</td>\n",
       "      <td>0.218126</td>\n",
       "      <td>0.069424</td>\n",
       "      <td>0.516208</td>\n",
       "    </tr>\n",
       "    <tr>\n",
       "      <th>3</th>\n",
       "      <td>0.664155</td>\n",
       "      <td>0.223556</td>\n",
       "      <td>0.950972</td>\n",
       "      <td>0.999702</td>\n",
       "    </tr>\n",
       "  </tbody>\n",
       "</table>\n",
       "</div>"
      ],
      "text/plain": [
       "          0         1         2         3\n",
       "0  0.653953  0.963196  0.342583  0.988737\n",
       "1  0.956051  0.296642  0.894376  0.983777\n",
       "2  0.924122  0.218126  0.069424  0.516208\n",
       "3  0.664155  0.223556  0.950972  0.999702"
      ]
     },
     "execution_count": 1,
     "metadata": {},
     "output_type": "execute_result"
    }
   ],
   "source": [
    "import pandas as pd\n",
    "import numpy as np\n",
    "df = pd.DataFrame(np.random.random(16).reshape(4, 4))\n",
    "df"
   ]
  },
  {
   "cell_type": "markdown",
   "metadata": {},
   "source": [
    "Title\n",
    "=====\n",
    "\n",
    "Text and tbl. 2\n",
    "\n",
    "<div id=\"tbl:table2\">\n",
    "\n",
    "<table>\n",
    "<caption>Table 2: Table</caption>\n",
    "<thead>\n",
    "<tr class=\"header\">\n",
    "<th>a</th>\n",
    "<th>b</th>\n",
    "<th>c</th>\n",
    "<th>d</th>\n",
    "</tr>\n",
    "</thead>\n",
    "<tbody>\n",
    "<tr class=\"odd\">\n",
    "<td>1</td>\n",
    "<td>2</td>\n",
    "<td>3</td>\n",
    "<td>4</td>\n",
    "</tr>\n",
    "</tbody>\n",
    "</table>\n",
    "\n",
    "</div>"
   ]
  },
  {
   "cell_type": "code",
   "execution_count": 2,
   "metadata": {
    "attributes": {
     "classes": [
      "python",
      "in"
     ],
     "id": ""
    }
   },
   "outputs": [
    {
     "name": "stdout",
     "output_type": "stream",
     "text": [
      "Hello!\n"
     ]
    }
   ],
   "source": [
    "print('Hello!')"
   ]
  }
 ],
 "metadata": {
  "autoEqnLabels": false,
  "autoSectionLabels": false,
  "ccsDelim": ",",
  "ccsLabelSep": " —",
  "ccsTemplate": "$$i$$$$ccsLabelSep$$$$t$$",
  "chapDelim": ".",
  "chapters": false,
  "chaptersDepth": 1,
  "codeBlockCaptions": false,
  "cref": false,
  "crossrefYaml": "pandoc-crossref.yaml",
  "eqnLabels": "arabic",
  "eqnPrefix": [
   "eq.",
   "eqns."
  ],
  "eqnPrefixTemplate": "$$p$$ $$i$$",
  "eval": false,
  "figLabels": "arabic",
  "figPrefix": [
   "fig.",
   "figs."
  ],
  "figPrefixTemplate": "$$p$$ $$i$$",
  "figureTemplate": "$$figureTitle$$ $$i$$$$titleDelim$$ $$t$$",
  "figureTitle": "Figure",
  "input": true,
  "kernels-map": {
   "py": "python"
  },
  "kernelspec": {
   "display_name": "Python 3",
   "language": "python",
   "name": "python3"
  },
  "lastDelim": ",",
  "linkReferences": false,
  "listingTemplate": "$$listingTitle$$ $$i$$$$titleDelim$$ $$t$$",
  "listingTitle": "Listing",
  "listings": false,
  "lofTitle": "List of Figures\n===============\n",
  "lolTitle": "List of Listings\n================\n",
  "lotTitle": "List of Tables\n==============\n",
  "lstLabels": "arabic",
  "lstPrefix": [
   "lst.",
   "lsts."
  ],
  "lstPrefixTemplate": "$$p$$ $$i$$",
  "nameInLink": false,
  "numberSections": false,
  "pairDelim": ",",
  "pandoctools": {
   "out": "\\%USERPROFILE%\\*.ipynb",
   "profile": "Default"
  },
  "rangeDelim": "\\-",
  "refDelim": ",",
  "refIndexTemplate": "$$i$$$$suf$$",
  "secHeaderTemplate": "$$i$$$$secHeaderDelim$$$$t$$",
  "secLabels": "arabic",
  "secPrefix": [
   "sec.",
   "secs."
  ],
  "secPrefixTemplate": "$$p$$ $$i$$",
  "sectionsDepth": 0,
  "styles-map": {
   "py": "python"
  },
  "subfigGrid": false,
  "subfigLabels": "alpha a",
  "subfigureChildTemplate": "$$i$$",
  "subfigureRefIndexTemplate": "$$i$$$$suf$$ ($$s$$)",
  "subfigureTemplate": "$$figureTitle$$ $$i$$$$titleDelim$$ $$t$$. $$ccs$$",
  "tableEqns": false,
  "tableTemplate": "$$tableTitle$$ $$i$$$$titleDelim$$ $$t$$",
  "tableTitle": "Table",
  "tblLabels": "arabic",
  "tblPrefix": [
   "tbl.",
   "tbls."
  ],
  "tblPrefixTemplate": "$$p$$ $$i$$",
  "titleDelim": ":"
 },
 "nbformat": 4,
 "nbformat_minor": 2
}
