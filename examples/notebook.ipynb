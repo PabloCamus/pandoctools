{
 "cells": [
  {
   "cell_type": "markdown",
   "metadata": {},
   "source": [
    "Markdown to Jupyter notebook example\n",
    "====================================\n",
    "\n",
    "Here is a SugarTeX example with eq. 1 and fig. 1.\n",
    "\n",
    "See [PDF of this\n",
    "source](https://github.com/kiwi0fruit/sugartex/raw/master/sugartex.pdf)\n",
    "if you do not have [excellent Unicode\n",
    "support](https://github.com/kiwi0fruit/sugartex#atom-editor-with-full-unicode-support).\n",
    "\n",
    "<span id=\"eq:max\">$$\n",
    "\\begin{aligned}∇ × {\\mathbf{B}} - \\frac{1}{c} \\frac{∂{\\mathbf{E}}}{∂t} &= \\frac{4π}{c} {\\mathbf{j}}\\\\\n",
    "               ∇ ⋅ {\\mathbf{E}}\\ &= 4πρ       \\\\\n",
    " ∇ × {\\mathbf{E}} + \\frac{1}{c} \\frac{∂{\\mathbf{B}}}{∂t} &= {\\mathbf{0}}      \\\\\n",
    "               ∇ ⋅ {\\mathbf{B}}\\ &= 0         \\end{aligned}\n",
    ",\\qquad(1)$$</span>\n",
    "\n",
    "where ${\\mathbf{B}},\\,{\\mathbf{E}},\\,{\\mathbf{j}}:\\,ℝ^{4} → ℝ^{3}$ –\n",
    "vector functions of the form\n",
    "$(t,x,y,z) ↦ {\\mathbf{f}}(t,x,y,z),\\,{\\mathbf{f}} = (f_{\\mathrm{x}}, f_{\\mathrm{y}}, f_{\\mathrm{z}})$.\n",
    "\n",
    "<img src=\"https://avatars3.githubusercontent.com/u/19735117?s=460&amp;v=4\" alt=\"Figure 1: Sample image with cross-references.\" id=\"fig:img\" />\n",
    "\n",
    "Image caption does not work but it can be fixed via simple Panflute\n",
    "filter. Or it can be considered Pandoc bug."
   ]
  },
  {
   "cell_type": "markdown",
   "metadata": {},
   "source": [
    "``` python\n",
    "import pandas as pd\n",
    "import numpy as np\n",
    "from pandoctools import pandas as th\n",
    "\n",
    "df = pd.DataFrame(np.random.random(16).reshape(4, 4))\n",
    "\n",
    "print(th.md_table(df, KNITTY))\n",
    "print(': Table {#tbl:table1}')\n",
    "```\n"
   ]
  },
  {
   "cell_type": "markdown",
   "metadata": {},
   "source": [
    "<div id=\"tbl:table1\">\n",
    "\n",
    "<table>\n",
    "<caption>Table 1: Table</caption>\n",
    "<colgroup>\n",
    "<col style=\"width: 25%\" />\n",
    "<col style=\"width: 25%\" />\n",
    "<col style=\"width: 25%\" />\n",
    "<col style=\"width: 25%\" />\n",
    "</colgroup>\n",
    "<thead>\n",
    "<tr class=\"header\">\n",
    "<th>0</th>\n",
    "<th>1</th>\n",
    "<th>2</th>\n",
    "<th>3</th>\n",
    "</tr>\n",
    "</thead>\n",
    "<tbody>\n",
    "<tr class=\"odd\">\n",
    "<td>0.02294017645880342</td>\n",
    "<td>0.09587579123108847</td>\n",
    "<td>0.8582302894788932</td>\n",
    "<td>0.7234534648813294</td>\n",
    "</tr>\n",
    "<tr class=\"even\">\n",
    "<td>0.6067278308269421</td>\n",
    "<td>0.2448088506161341</td>\n",
    "<td>0.9691525827175704</td>\n",
    "<td>0.7641720396975269</td>\n",
    "</tr>\n",
    "<tr class=\"odd\">\n",
    "<td>0.5398592081115958</td>\n",
    "<td>0.6811142694093589</td>\n",
    "<td>0.08950436977710541</td>\n",
    "<td>0.9288944811243199</td>\n",
    "</tr>\n",
    "<tr class=\"even\">\n",
    "<td>0.163612613438062</td>\n",
    "<td>0.20006210867649565</td>\n",
    "<td>0.5469175590927742</td>\n",
    "<td>0.20405794162832303</td>\n",
    "</tr>\n",
    "</tbody>\n",
    "</table>\n",
    "\n",
    "</div>\n",
    "\n",
    "Text and tbl. 1"
   ]
  },
  {
   "cell_type": "code",
   "execution_count": 1,
   "metadata": {
    "attributes": {
     "classes": [
      "python",
      "in"
     ],
     "echo": "True",
     "eval": "False",
     "id": "",
     "input": "True"
    }
   },
   "outputs": [
    {
     "data": {
      "text/html": [
       "<div>\n",
       "<style scoped>\n",
       "    .dataframe tbody tr th:only-of-type {\n",
       "        vertical-align: middle;\n",
       "    }\n",
       "\n",
       "    .dataframe tbody tr th {\n",
       "        vertical-align: top;\n",
       "    }\n",
       "\n",
       "    .dataframe thead th {\n",
       "        text-align: right;\n",
       "    }\n",
       "</style>\n",
       "<table border=\"1\" class=\"dataframe\">\n",
       "  <thead>\n",
       "    <tr style=\"text-align: right;\">\n",
       "      <th></th>\n",
       "      <th>0</th>\n",
       "      <th>1</th>\n",
       "      <th>2</th>\n",
       "      <th>3</th>\n",
       "    </tr>\n",
       "  </thead>\n",
       "  <tbody>\n",
       "    <tr>\n",
       "      <th>0</th>\n",
       "      <td>0.474398</td>\n",
       "      <td>0.752488</td>\n",
       "      <td>0.111315</td>\n",
       "      <td>0.116984</td>\n",
       "    </tr>\n",
       "    <tr>\n",
       "      <th>1</th>\n",
       "      <td>0.741021</td>\n",
       "      <td>0.235655</td>\n",
       "      <td>0.501978</td>\n",
       "      <td>0.681804</td>\n",
       "    </tr>\n",
       "    <tr>\n",
       "      <th>2</th>\n",
       "      <td>0.262365</td>\n",
       "      <td>0.962846</td>\n",
       "      <td>0.539421</td>\n",
       "      <td>0.518568</td>\n",
       "    </tr>\n",
       "    <tr>\n",
       "      <th>3</th>\n",
       "      <td>0.741852</td>\n",
       "      <td>0.268075</td>\n",
       "      <td>0.678404</td>\n",
       "      <td>0.931121</td>\n",
       "    </tr>\n",
       "  </tbody>\n",
       "</table>\n",
       "</div>"
      ],
      "text/plain": [
       "          0         1         2         3\n",
       "0  0.474398  0.752488  0.111315  0.116984\n",
       "1  0.741021  0.235655  0.501978  0.681804\n",
       "2  0.262365  0.962846  0.539421  0.518568\n",
       "3  0.741852  0.268075  0.678404  0.931121"
      ]
     },
     "execution_count": 1,
     "metadata": {},
     "output_type": "execute_result"
    }
   ],
   "source": [
    "import pandas as pd\n",
    "import numpy as np\n",
    "df = pd.DataFrame(np.random.random(16).reshape(4, 4))\n",
    "df"
   ]
  },
  {
   "cell_type": "markdown",
   "metadata": {},
   "source": [
    "``` r\n",
    "# R cell:\n",
    "x <- c(10, 20)\n",
    "x[1]\n",
    "```\n"
   ]
  },
  {
   "cell_type": "markdown",
   "metadata": {},
   "source": [
    "10"
   ]
  },
  {
   "cell_type": "markdown",
   "metadata": {},
   "source": [
    "``` python\n",
    "import math\n",
    "print('''\n",
    "\n",
    "Markdown text with SugarTeX formula: $α^˱{pi:1.3f}˲$.\n",
    "It works because of the results=pandoc option and SugarTeX Pandoc filter.\n",
    "\n",
    "'''.replace('$', '$').format(pi=math.pi))\n",
    "```\n"
   ]
  },
  {
   "cell_type": "markdown",
   "metadata": {},
   "source": [
    "Markdown text with SugarTeX formula: $α^{3.142}$. It works because of\n",
    "the results=pandoc option and SugarTeX Pandoc filter."
   ]
  },
  {
   "cell_type": "code",
   "execution_count": 2,
   "metadata": {
    "attributes": {
     "classes": [
      "python",
      "in"
     ],
     "echo": "True",
     "eval": "False",
     "id": "",
     "input": "True"
    }
   },
   "outputs": [
    {
     "name": "stdout",
     "output_type": "stream",
     "text": [
      "Hello!\n"
     ]
    }
   ],
   "source": [
    "print('Hello!')"
   ]
  }
 ],
 "metadata": {
  "autoEqnLabels": false,
  "autoSectionLabels": false,
  "ccsDelim": ",",
  "ccsLabelSep": " —",
  "ccsTemplate": "$$i$$$$ccsLabelSep$$$$t$$",
  "chapDelim": ".",
  "chapters": false,
  "chaptersDepth": 1,
  "codeBlockCaptions": false,
  "cref": false,
  "crossrefYaml": "pandoc-crossref.yaml",
  "echo": false,
  "eqnLabels": "arabic",
  "eqnPrefix": [
   "eq.",
   "eqns."
  ],
  "eqnPrefixTemplate": "$$p$$ $$i$$",
  "eval": true,
  "figLabels": "arabic",
  "figPrefix": [
   "fig.",
   "figs."
  ],
  "figPrefixTemplate": "$$p$$ $$i$$",
  "figureTemplate": "$$figureTitle$$ $$i$$$$titleDelim$$ $$t$$",
  "figureTitle": "Figure",
  "input": false,
  "kernels-map": {
   "py": "python",
   "r": "ir"
  },
  "kernelspec": {
   "display_name": "Python 3",
   "language": "python",
   "name": "python3"
  },
  "lastDelim": ",",
  "linkReferences": false,
  "listingTemplate": "$$listingTitle$$ $$i$$$$titleDelim$$ $$t$$",
  "listingTitle": "Listing",
  "listings": false,
  "lofTitle": "List of Figures\n===============\n",
  "lolTitle": "List of Listings\n================\n",
  "lotTitle": "List of Tables\n==============\n",
  "lstLabels": "arabic",
  "lstPrefix": [
   "lst.",
   "lsts."
  ],
  "lstPrefixTemplate": "$$p$$ $$i$$",
  "nameInLink": false,
  "numberSections": false,
  "pairDelim": ",",
  "pandoctools": {
   "out": "\\%USERPROFILE%\\*.ipynb",
   "profile": "Kiwi"
  },
  "rangeDelim": "\\-",
  "refDelim": ",",
  "refIndexTemplate": "$$i$$$$suf$$",
  "secHeaderTemplate": "$$i$$$$secHeaderDelim$$$$t$$",
  "secLabels": "arabic",
  "secPrefix": [
   "sec.",
   "secs."
  ],
  "secPrefixTemplate": "$$p$$ $$i$$",
  "sectionsDepth": 0,
  "styles-map": {
   "py": "python"
  },
  "subfigGrid": false,
  "subfigLabels": "alpha a",
  "subfigureChildTemplate": "$$i$$",
  "subfigureRefIndexTemplate": "$$i$$$$suf$$ ($$s$$)",
  "subfigureTemplate": "$$figureTitle$$ $$i$$$$titleDelim$$ $$t$$. $$ccs$$",
  "tableEqns": false,
  "tableTemplate": "$$tableTitle$$ $$i$$$$titleDelim$$ $$t$$",
  "tableTitle": "Table",
  "tblLabels": "arabic",
  "tblPrefix": [
   "tbl.",
   "tbls."
  ],
  "tblPrefixTemplate": "$$p$$ $$i$$",
  "titleDelim": ":"
 },
 "nbformat": 4,
 "nbformat_minor": 2
}
