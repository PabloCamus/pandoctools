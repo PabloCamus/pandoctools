{
 "cells": [
  {
   "cell_type": "markdown",
   "metadata": {},
   "source": [
    "Markdown to Jupyter notebook example\n",
    "====================================\n",
    "\n",
    "Here is a SugarTeX example with eq. 1 and fig. 1.\n",
    "\n",
    "See [PDF of this\n",
    "source](https://github.com/kiwi0fruit/sugartex/raw/master/sugartex.pdf)\n",
    "if you do not have [excellent Unicode\n",
    "support](https://github.com/kiwi0fruit/sugartex#atom-editor-with-full-unicode-support).\n",
    "\n",
    "<span id=\"eq:max\">$$\n",
    "\\begin{aligned}∇ × {\\mathbf{B}} - \\frac{1}{c} \\frac{∂{\\mathbf{E}}}{∂t} &= \\frac{4π}{c} {\\mathbf{j}}\\\\\n",
    "               ∇ ⋅ {\\mathbf{E}}\\ &= 4πρ       \\\\\n",
    " ∇ × {\\mathbf{E}} + \\frac{1}{c} \\frac{∂{\\mathbf{B}}}{∂t} &= {\\mathbf{0}}      \\\\\n",
    "               ∇ ⋅ {\\mathbf{B}}\\ &= 0         \\end{aligned}\n",
    ",\\qquad(1)$$</span>\n",
    "\n",
    "where ${\\mathbf{B}},\\,{\\mathbf{E}},\\,{\\mathbf{j}}:\\,ℝ^{4} → ℝ^{3}$ –\n",
    "vector functions of the form\n",
    "$(t,x,y,z) ↦ {\\mathbf{f}}(t,x,y,z),\\,{\\mathbf{f}} = (f_{\\mathrm{x}}, f_{\\mathrm{y}}, f_{\\mathrm{z}})$.\n",
    "\n",
    "<figure>\n",
    "<img src=\"https://avatars3.githubusercontent.com/u/19735117?s=460&amp;v=4\" alt=\"Figure 1: Sample image with cross-references.\" id=\"fig:img\" /><figcaption>Figure 1: Sample image with cross-references.</figcaption>\n",
    "</figure>In this version of Pandoc image caption fig. 1 works but for\n",
    "some reason this text is not inside `<p></p>`…"
   ]
  },
  {
   "cell_type": "markdown",
   "metadata": {},
   "source": [
    "``` python\n",
    "import pandas as pd\n",
    "import numpy as np\n",
    "from pandoctools import pandas as th\n",
    "\n",
    "df = pd.DataFrame(np.random.random(16).reshape(4, 4))\n",
    "\n",
    "print(th.md_table(df))\n",
    "print(': Table {#tbl:table1}')\n",
    "```\n"
   ]
  },
  {
   "cell_type": "markdown",
   "metadata": {},
   "source": [
    "<div id=\"tbl:table1\">\n",
    "\n",
    "<table>\n",
    "<caption>Table 1: Table</caption>\n",
    "<colgroup>\n",
    "<col style=\"width: 25%\" />\n",
    "<col style=\"width: 25%\" />\n",
    "<col style=\"width: 25%\" />\n",
    "<col style=\"width: 25%\" />\n",
    "</colgroup>\n",
    "<thead>\n",
    "<tr class=\"header\">\n",
    "<th>0</th>\n",
    "<th>1</th>\n",
    "<th>2</th>\n",
    "<th>3</th>\n",
    "</tr>\n",
    "</thead>\n",
    "<tbody>\n",
    "<tr class=\"odd\">\n",
    "<td>0.6051742437331046</td>\n",
    "<td>0.7177162782625878</td>\n",
    "<td>0.0931360601943324</td>\n",
    "<td>0.4842704440033917</td>\n",
    "</tr>\n",
    "<tr class=\"even\">\n",
    "<td>0.5334484707882606</td>\n",
    "<td>0.9190647672653182</td>\n",
    "<td>0.7961851102776305</td>\n",
    "<td>0.4471814509129304</td>\n",
    "</tr>\n",
    "<tr class=\"odd\">\n",
    "<td>0.8908194519408033</td>\n",
    "<td>0.3417093334305046</td>\n",
    "<td>0.2513673347382547</td>\n",
    "<td>0.20501570227424293</td>\n",
    "</tr>\n",
    "<tr class=\"even\">\n",
    "<td>0.8428101915883462</td>\n",
    "<td>0.5521798390881286</td>\n",
    "<td>0.01717872094391837</td>\n",
    "<td>0.1098901246537759</td>\n",
    "</tr>\n",
    "</tbody>\n",
    "</table>\n",
    "\n",
    "</div>\n",
    "\n",
    "Text and tbl. 1"
   ]
  },
  {
   "cell_type": "code",
   "execution_count": 1,
   "metadata": {
    "attributes": {
     "classes": [
      "python",
      "in"
     ],
     "id": ""
    }
   },
   "outputs": [
    {
     "data": {
      "text/html": [
       "<div>\n",
       "<style scoped>\n",
       "    .dataframe tbody tr th:only-of-type {\n",
       "        vertical-align: middle;\n",
       "    }\n",
       "\n",
       "    .dataframe tbody tr th {\n",
       "        vertical-align: top;\n",
       "    }\n",
       "\n",
       "    .dataframe thead th {\n",
       "        text-align: right;\n",
       "    }\n",
       "</style>\n",
       "<table border=\"1\" class=\"dataframe\">\n",
       "  <thead>\n",
       "    <tr style=\"text-align: right;\">\n",
       "      <th></th>\n",
       "      <th>0</th>\n",
       "      <th>1</th>\n",
       "      <th>2</th>\n",
       "      <th>3</th>\n",
       "    </tr>\n",
       "  </thead>\n",
       "  <tbody>\n",
       "    <tr>\n",
       "      <th>0</th>\n",
       "      <td>0.452550</td>\n",
       "      <td>0.269651</td>\n",
       "      <td>0.155162</td>\n",
       "      <td>0.194876</td>\n",
       "    </tr>\n",
       "    <tr>\n",
       "      <th>1</th>\n",
       "      <td>0.991446</td>\n",
       "      <td>0.132120</td>\n",
       "      <td>0.736082</td>\n",
       "      <td>0.327194</td>\n",
       "    </tr>\n",
       "    <tr>\n",
       "      <th>2</th>\n",
       "      <td>0.092640</td>\n",
       "      <td>0.528729</td>\n",
       "      <td>0.033672</td>\n",
       "      <td>0.329264</td>\n",
       "    </tr>\n",
       "    <tr>\n",
       "      <th>3</th>\n",
       "      <td>0.592123</td>\n",
       "      <td>0.252189</td>\n",
       "      <td>0.954500</td>\n",
       "      <td>0.502346</td>\n",
       "    </tr>\n",
       "  </tbody>\n",
       "</table>\n",
       "</div>"
      ],
      "text/plain": [
       "          0         1         2         3\n",
       "0  0.452550  0.269651  0.155162  0.194876\n",
       "1  0.991446  0.132120  0.736082  0.327194\n",
       "2  0.092640  0.528729  0.033672  0.329264\n",
       "3  0.592123  0.252189  0.954500  0.502346"
      ]
     },
     "execution_count": 1,
     "metadata": {},
     "output_type": "execute_result"
    }
   ],
   "source": [
    "import pandas as pd\n",
    "import numpy as np\n",
    "df = pd.DataFrame(np.random.random(16).reshape(4, 4))\n",
    "df"
   ]
  },
  {
   "cell_type": "markdown",
   "metadata": {},
   "source": [
    "Title\n",
    "=====\n",
    "\n",
    "Text and tbl. 2\n",
    "\n",
    "<div id=\"tbl:table2\">\n",
    "\n",
    "<table>\n",
    "<caption>Table 2: Table</caption>\n",
    "<thead>\n",
    "<tr class=\"header\">\n",
    "<th>a</th>\n",
    "<th>b</th>\n",
    "<th>c</th>\n",
    "<th>d</th>\n",
    "</tr>\n",
    "</thead>\n",
    "<tbody>\n",
    "<tr class=\"odd\">\n",
    "<td>1</td>\n",
    "<td>2</td>\n",
    "<td>3</td>\n",
    "<td>4</td>\n",
    "</tr>\n",
    "</tbody>\n",
    "</table>\n",
    "\n",
    "</div>"
   ]
  },
  {
   "cell_type": "code",
   "execution_count": 2,
   "metadata": {
    "attributes": {
     "classes": [
      "python",
      "in"
     ],
     "id": ""
    }
   },
   "outputs": [
    {
     "name": "stdout",
     "output_type": "stream",
     "text": [
      "Hello!\n"
     ]
    }
   ],
   "source": [
    "print('Hello!')"
   ]
  }
 ],
 "metadata": {
  "autoEqnLabels": false,
  "autoSectionLabels": false,
  "ccsDelim": ",",
  "ccsLabelSep": " —",
  "ccsTemplate": "$$i$$$$ccsLabelSep$$$$t$$",
  "chapDelim": ".",
  "chapters": false,
  "chaptersDepth": 1,
  "codeBlockCaptions": false,
  "comments-map": {
   "js": [
    "//",
    "/\\*",
    "\\*/"
   ],
   "py": [
    "\\#",
    "’’’",
    "’’’",
    "\"\"\"",
    "\"\"\""
   ],
   "r": [
    "\\#",
    "\"",
    "\""
   ]
  },
  "cref": false,
  "crossrefYaml": "pandoc-crossref.yaml",
  "eqnLabels": "arabic",
  "eqnPrefix": [
   "eq.",
   "eqns."
  ],
  "eqnPrefixTemplate": "$$p$$ $$i$$",
  "eval": false,
  "figLabels": "arabic",
  "figPrefix": [
   "fig.",
   "figs."
  ],
  "figPrefixTemplate": "$$p$$ $$i$$",
  "figureTemplate": "$$figureTitle$$ $$i$$$$titleDelim$$ $$t$$",
  "figureTitle": "Figure",
  "input": true,
  "kernels-map": {
   "py": "python"
  },
  "kernelspec": {
   "display_name": "Python 3",
   "language": "python",
   "name": "python3"
  },
  "lastDelim": ",",
  "linkReferences": false,
  "listingTemplate": "$$listingTitle$$ $$i$$$$titleDelim$$ $$t$$",
  "listingTitle": "Listing",
  "listings": false,
  "lofTitle": "List of Figures\n===============\n",
  "lolTitle": "List of Listings\n================\n",
  "lotTitle": "List of Tables\n==============\n",
  "lstLabels": "arabic",
  "lstPrefix": [
   "lst.",
   "lsts."
  ],
  "lstPrefixTemplate": "$$p$$ $$i$$",
  "nameInLink": false,
  "numberSections": false,
  "pairDelim": ",",
  "pandoctools": {
   "out": "\\~/\\*.ipynb",
   "profile": "Default"
  },
  "rangeDelim": "\\-",
  "refDelim": ",",
  "refIndexTemplate": "$$i$$$$suf$$",
  "secHeaderTemplate": "$$i$$$$secHeaderDelim$$$$t$$",
  "secLabels": "arabic",
  "secPrefix": [
   "sec.",
   "secs."
  ],
  "secPrefixTemplate": "$$p$$ $$i$$",
  "sectionsDepth": 0,
  "styles-map": {
   "py": "python"
  },
  "subfigGrid": false,
  "subfigLabels": "alpha a",
  "subfigureChildTemplate": "$$i$$",
  "subfigureRefIndexTemplate": "$$i$$$$suf$$ ($$s$$)",
  "subfigureTemplate": "$$figureTitle$$ $$i$$$$titleDelim$$ $$t$$. $$ccs$$",
  "tableEqns": false,
  "tableTemplate": "$$tableTitle$$ $$i$$$$titleDelim$$ $$t$$",
  "tableTitle": "Table",
  "tblLabels": "arabic",
  "tblPrefix": [
   "tbl.",
   "tbls."
  ],
  "tblPrefixTemplate": "$$p$$ $$i$$",
  "titleDelim": ":"
 },
 "nbformat": 4,
 "nbformat_minor": 2
}
